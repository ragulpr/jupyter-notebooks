{
 "cells": [
  {
   "cell_type": "code",
   "execution_count": 5,
   "metadata": {
    "collapsed": false
   },
   "outputs": [
    {
     "name": "stdout",
     "output_type": "stream",
     "text": [
      "0.8.0\n"
     ]
    }
   ],
   "source": [
    "# This was written as a minimal answer to \n",
    "# https://stackoverflow.com/questions/34570177/tensorflow-list-of-tensors-for-cost\n",
    "%matplotlib inline\n",
    "import matplotlib.pyplot as plt\n",
    "import numpy as np\n",
    "\n",
    "import tensorflow as tf\n",
    "from tensorflow.models.rnn import rnn, rnn_cell\n",
    "print(tf.__version__) \n",
    "#> 0.8.0\n"
   ]
  },
  {
   "cell_type": "code",
   "execution_count": 2,
   "metadata": {
    "collapsed": false
   },
   "outputs": [],
   "source": [
    "batch_size  = 2\n",
    "output_size = input_size  = 2\n",
    "seq_len     = 10\n",
    "num_units   = 2\n",
    "\n",
    "cell = rnn_cell.BasicLSTMCell(num_units)\n",
    "inputs = [tf.placeholder(tf.float32, shape=[batch_size,input_size ]) for _ in xrange(seq_len)]\n",
    "result = [tf.placeholder(tf.float32, shape=[batch_size,output_size]) for _ in xrange(seq_len)]\n",
    "\n",
    "W_o = tf.Variable(tf.random_normal([num_units,input_size], stddev=0.01))     \n",
    "b_o = tf.Variable(tf.random_normal([input_size],           stddev=0.01))\n",
    "\n",
    "outputs, states = rnn.rnn(cell, inputs, dtype=tf.float32)   \n",
    "\n",
    "losses = []\n",
    "\n",
    "for i in xrange(seq_len):\n",
    "    final_transformed_val = tf.matmul(outputs[i],W_o) + b_o\n",
    "    losses.append(tf.squared_difference(result[i],final_transformed_val)) \n",
    "\n",
    "losses = tf.reshape(tf.concat(1, losses), [-1, seq_len])\n",
    "cost = tf.reduce_mean(losses) \n",
    "\n",
    "step = tf.train.AdamOptimizer(learning_rate=0.01).minimize(cost)\n",
    "sess = tf.InteractiveSession()"
   ]
  },
  {
   "cell_type": "code",
   "execution_count": 3,
   "metadata": {
    "collapsed": true
   },
   "outputs": [],
   "source": [
    "sess.run(tf.initialize_all_variables())\n",
    "\n",
    "costs = []"
   ]
  },
  {
   "cell_type": "code",
   "execution_count": 4,
   "metadata": {
    "collapsed": false
   },
   "outputs": [
    {
     "data": {
      "text/plain": [
       "[<matplotlib.lines.Line2D at 0x112b663d0>]"
      ]
     },
     "execution_count": 4,
     "metadata": {},
     "output_type": "execute_result"
    },
    {
     "data": {
      "image/png": "[encoded data removed]",
      "text/plain": [
       "<matplotlib.figure.Figure at 0x112ac64d0>"
      ]
     },
     "metadata": {},
     "output_type": "display_data"
    }
   ],
   "source": [
    "# EXAMPLE\n",
    "# Learn cumsum over each sequence in x[i]\n",
    "\n",
    "n_iterations = 300\n",
    "for _ in xrange(n_iterations):\n",
    "    x  = np.random.uniform(0,1,[seq_len,batch_size,num_units])\n",
    "    y  = np.cumsum(x,axis=2)\n",
    "    \n",
    "    x_list = {key: value for (key, value) in zip(inputs, x)}\n",
    "    y_list = {key: value for (key, value) in zip(result, y)}\n",
    "    \n",
    "    err,_ = sess.run([cost, step], feed_dict=dict(x_list.items()+y_list.items()))\n",
    "    costs.append(err)\n",
    "\n",
    "plt.plot(costs)"
   ]
  }
 ],
 "metadata": {
  "kernelspec": {
   "display_name": "Python 2",
   "language": "python",
   "name": "python2"
  },
  "language_info": {
   "codemirror_mode": {
    "name": "ipython",
    "version": 2
   },
   "file_extension": ".py",
   "mimetype": "text/x-python",
   "name": "python",
   "nbconvert_exporter": "python",
   "pygments_lexer": "ipython2",
   "version": "2.7.10"
  }
 },
 "nbformat": 4,
 "nbformat_minor": 0
}
